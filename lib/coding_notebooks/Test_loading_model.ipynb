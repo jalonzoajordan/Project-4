{
 "cells": [
  {
   "cell_type": "code",
   "execution_count": 1,
   "id": "67b27da8",
   "metadata": {},
   "outputs": [],
   "source": [
    "#import dependencies\n",
    "import pandas as pd\n",
    "import numpy as np\n",
    "from tensorflow.keras.models import load_model\n",
    "import ast"
   ]
  },
  {
   "cell_type": "code",
   "execution_count": 3,
   "id": "09f8f535",
   "metadata": {},
   "outputs": [],
   "source": [
    "#import trained machine learning model\n",
    "path = \"../data/poker_model.hdf5\"\n",
    "nn_model = load_model(path)\n",
    "\n",
    "#get the model headers from the output text file\n",
    "headers_path = \"../data/dummies_columns.txt\"\n",
    "header = open(headers_path, \"r\")\n",
    "header = header.readlines()"
   ]
  },
  {
   "cell_type": "code",
   "execution_count": 4,
   "id": "7846f5f3",
   "metadata": {},
   "outputs": [],
   "source": [
    "header = ast.literal_eval(header[0])"
   ]
  },
  {
   "cell_type": "code",
   "execution_count": 6,
   "id": "808b4ac4",
   "metadata": {},
   "outputs": [
    {
     "data": {
      "text/plain": [
       "260"
      ]
     },
     "execution_count": 6,
     "metadata": {},
     "output_type": "execute_result"
    }
   ],
   "source": [
    "len(header)"
   ]
  },
  {
   "cell_type": "code",
   "execution_count": 7,
   "id": "b7ae6219",
   "metadata": {},
   "outputs": [
    {
     "name": "stdout",
     "output_type": "stream",
     "text": [
      "1/1 [==============================] - 0s 76ms/step\n",
      "1/1 [==============================] - 0s 117ms/step - loss: 0.0000e+00 - accuracy: 1.0000\n"
     ]
    }
   ],
   "source": [
    "#get the input from the form\n",
    "\n",
    "#put into a list for translations\n",
    "inputs_list = [2,0,0,0,1995,1,10,0,0,0,'None','None','None','None','None']\n",
    "\n",
    "#create dummies reference list\n",
    "dummies_cards = inputs_list[:10]\n",
    "\n",
    "#get the headers from the dummies columns\n",
    "dummies_columns = header\n",
    "\n",
    "#loop through each table card and add the corresponding binary value\n",
    "i = 0\n",
    "k = 0\n",
    "while i < 5:\n",
    "    i = i+1\n",
    "    #get the current card\n",
    "    curr_card = f'table_{i}_{inputs_list[9+i]}'\n",
    "    j = 0\n",
    "    while j<52:\n",
    "        check_card = dummies_columns[k]\n",
    "        if curr_card == check_card:\n",
    "            dummies_cards.append(1)\n",
    "        else:\n",
    "            dummies_cards.append(0)\n",
    "        j = j+1\n",
    "        k = k+1\n",
    "\n",
    "#shape the data to match machine learning model\n",
    "x_predict = np.array([dummies_cards])\n",
    "x_predict.flatten()\n",
    "\n",
    "#run the prediction\n",
    "y_predict = nn_model.predict(x_predict)\n",
    "\n",
    "#get the evaluation\n",
    "result = nn_model.evaluate(x_predict,y_predict,verbose=1)"
   ]
  },
  {
   "cell_type": "code",
   "execution_count": 8,
   "id": "1dba7efd",
   "metadata": {},
   "outputs": [
    {
     "name": "stdout",
     "output_type": "stream",
     "text": [
      "<class 'list'>\n"
     ]
    },
    {
     "data": {
      "text/plain": [
       "[0.0, 1.0]"
      ]
     },
     "execution_count": 8,
     "metadata": {},
     "output_type": "execute_result"
    }
   ],
   "source": [
    "print(type(result))\n",
    "result"
   ]
  },
  {
   "cell_type": "code",
   "execution_count": null,
   "id": "dd9835dc",
   "metadata": {},
   "outputs": [],
   "source": []
  }
 ],
 "metadata": {
  "kernelspec": {
   "display_name": "Python 3 (ipykernel)",
   "language": "python",
   "name": "python3"
  },
  "language_info": {
   "codemirror_mode": {
    "name": "ipython",
    "version": 3
   },
   "file_extension": ".py",
   "mimetype": "text/x-python",
   "name": "python",
   "nbconvert_exporter": "python",
   "pygments_lexer": "ipython3",
   "version": "3.9.7"
  }
 },
 "nbformat": 4,
 "nbformat_minor": 5
}
