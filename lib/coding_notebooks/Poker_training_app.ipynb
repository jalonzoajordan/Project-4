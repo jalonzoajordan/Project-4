{
 "cells": [
  {
   "cell_type": "code",
   "execution_count": 1,
   "id": "e8ae438e",
   "metadata": {},
   "outputs": [],
   "source": [
    "import sqlalchemy\n",
    "from sqlalchemy.ext.automap import automap_base\n",
    "from sqlalchemy.orm import Session\n",
    "from sqlalchemy import create_engine, inspect, func\n",
    "import datetime\n",
    "import json\n",
    "import pandas as pd\n",
    "import numpy as np"
   ]
  },
  {
   "cell_type": "code",
   "execution_count": 2,
   "id": "9c6125ae",
   "metadata": {},
   "outputs": [],
   "source": [
    "#set up engine\n",
    "engine = create_engine(\"sqlite:///../../Data/Poker_data.db\")"
   ]
  },
  {
   "cell_type": "code",
   "execution_count": 3,
   "id": "5ff11512",
   "metadata": {},
   "outputs": [
    {
     "data": {
      "text/plain": [
       "['dbo_hand_roster', 'dbo_hands', 'dbo_players']"
      ]
     },
     "execution_count": 3,
     "metadata": {},
     "output_type": "execute_result"
    }
   ],
   "source": [
    "#Verify that the database is connected and get table names for reference\n",
    "inspector = inspect(engine)\n",
    "inspector.get_table_names()"
   ]
  },
  {
   "cell_type": "code",
   "execution_count": 4,
   "id": "7efee483",
   "metadata": {},
   "outputs": [
    {
     "name": "stdout",
     "output_type": "stream",
     "text": [
      "player_name TEXT\n",
      "hand_id BIGINT\n",
      "num_players INTEGER\n",
      "chair_num INTEGER\n",
      "action_pre_flop TEXT\n",
      "action_flop TEXT\n",
      "action_turn TEXT\n",
      "action_river TEXT\n",
      "chip_count INTEGER\n",
      "player_bet INTEGER\n",
      "player_winnings INTEGER\n",
      "revealed_card_1 TEXT\n",
      "revealed_card_2 TEXT\n"
     ]
    }
   ],
   "source": [
    "#Verify column names for queries and future use\n",
    "columns = inspector.get_columns('dbo_players')\n",
    "column_names = []\n",
    "for c in columns:\n",
    "    column_names.append(c['name'])\n",
    "    print(c['name'], c[\"type\"])"
   ]
  },
  {
   "cell_type": "code",
   "execution_count": 5,
   "id": "23f168fe",
   "metadata": {},
   "outputs": [
    {
     "data": {
      "text/html": [
       "<div>\n",
       "<style scoped>\n",
       "    .dataframe tbody tr th:only-of-type {\n",
       "        vertical-align: middle;\n",
       "    }\n",
       "\n",
       "    .dataframe tbody tr th {\n",
       "        vertical-align: top;\n",
       "    }\n",
       "\n",
       "    .dataframe thead th {\n",
       "        text-align: right;\n",
       "    }\n",
       "</style>\n",
       "<table border=\"1\" class=\"dataframe\">\n",
       "  <thead>\n",
       "    <tr style=\"text-align: right;\">\n",
       "      <th></th>\n",
       "      <th>num_players</th>\n",
       "      <th>flop_pot</th>\n",
       "      <th>turn_pot</th>\n",
       "      <th>river_pot</th>\n",
       "      <th>chip_count</th>\n",
       "      <th>chair_num</th>\n",
       "      <th>player_bet</th>\n",
       "      <th>player_winnings</th>\n",
       "      <th>table_1</th>\n",
       "      <th>table_2</th>\n",
       "      <th>table_3</th>\n",
       "      <th>table_4</th>\n",
       "      <th>table_5</th>\n",
       "    </tr>\n",
       "  </thead>\n",
       "  <tbody>\n",
       "    <tr>\n",
       "      <th>0</th>\n",
       "      <td>2</td>\n",
       "      <td>0/0</td>\n",
       "      <td>0/0</td>\n",
       "      <td>0/0</td>\n",
       "      <td>1995</td>\n",
       "      <td>1</td>\n",
       "      <td>10</td>\n",
       "      <td>20</td>\n",
       "      <td>None</td>\n",
       "      <td>None</td>\n",
       "      <td>None</td>\n",
       "      <td>None</td>\n",
       "      <td>None</td>\n",
       "    </tr>\n",
       "    <tr>\n",
       "      <th>1</th>\n",
       "      <td>2</td>\n",
       "      <td>0/0</td>\n",
       "      <td>0/0</td>\n",
       "      <td>0/0</td>\n",
       "      <td>50</td>\n",
       "      <td>2</td>\n",
       "      <td>10</td>\n",
       "      <td>0</td>\n",
       "      <td>None</td>\n",
       "      <td>None</td>\n",
       "      <td>None</td>\n",
       "      <td>None</td>\n",
       "      <td>None</td>\n",
       "    </tr>\n",
       "    <tr>\n",
       "      <th>2</th>\n",
       "      <td>2</td>\n",
       "      <td>2/20</td>\n",
       "      <td>2/20</td>\n",
       "      <td>0/0</td>\n",
       "      <td>1045</td>\n",
       "      <td>2</td>\n",
       "      <td>970</td>\n",
       "      <td>1920</td>\n",
       "      <td>8c</td>\n",
       "      <td>Td</td>\n",
       "      <td>2d</td>\n",
       "      <td>Qs</td>\n",
       "      <td>None</td>\n",
       "    </tr>\n",
       "    <tr>\n",
       "      <th>3</th>\n",
       "      <td>2</td>\n",
       "      <td>2/20</td>\n",
       "      <td>2/20</td>\n",
       "      <td>0/0</td>\n",
       "      <td>1000</td>\n",
       "      <td>1</td>\n",
       "      <td>950</td>\n",
       "      <td>0</td>\n",
       "      <td>8c</td>\n",
       "      <td>Td</td>\n",
       "      <td>2d</td>\n",
       "      <td>Qs</td>\n",
       "      <td>None</td>\n",
       "    </tr>\n",
       "    <tr>\n",
       "      <th>4</th>\n",
       "      <td>3</td>\n",
       "      <td>0/0</td>\n",
       "      <td>0/0</td>\n",
       "      <td>0/0</td>\n",
       "      <td>3550</td>\n",
       "      <td>1</td>\n",
       "      <td>5</td>\n",
       "      <td>0</td>\n",
       "      <td>None</td>\n",
       "      <td>None</td>\n",
       "      <td>None</td>\n",
       "      <td>None</td>\n",
       "      <td>None</td>\n",
       "    </tr>\n",
       "    <tr>\n",
       "      <th>...</th>\n",
       "      <td>...</td>\n",
       "      <td>...</td>\n",
       "      <td>...</td>\n",
       "      <td>...</td>\n",
       "      <td>...</td>\n",
       "      <td>...</td>\n",
       "      <td>...</td>\n",
       "      <td>...</td>\n",
       "      <td>...</td>\n",
       "      <td>...</td>\n",
       "      <td>...</td>\n",
       "      <td>...</td>\n",
       "      <td>...</td>\n",
       "    </tr>\n",
       "    <tr>\n",
       "      <th>95</th>\n",
       "      <td>4</td>\n",
       "      <td>2/25</td>\n",
       "      <td>0/0</td>\n",
       "      <td>0/0</td>\n",
       "      <td>782</td>\n",
       "      <td>2</td>\n",
       "      <td>10</td>\n",
       "      <td>0</td>\n",
       "      <td>8d</td>\n",
       "      <td>3d</td>\n",
       "      <td>Kc</td>\n",
       "      <td>None</td>\n",
       "      <td>None</td>\n",
       "    </tr>\n",
       "    <tr>\n",
       "      <th>96</th>\n",
       "      <td>4</td>\n",
       "      <td>3/60</td>\n",
       "      <td>2/80</td>\n",
       "      <td>2/120</td>\n",
       "      <td>2224</td>\n",
       "      <td>4</td>\n",
       "      <td>0</td>\n",
       "      <td>0</td>\n",
       "      <td>5d</td>\n",
       "      <td>2d</td>\n",
       "      <td>Td</td>\n",
       "      <td>3h</td>\n",
       "      <td>2c</td>\n",
       "    </tr>\n",
       "    <tr>\n",
       "      <th>97</th>\n",
       "      <td>4</td>\n",
       "      <td>3/60</td>\n",
       "      <td>2/80</td>\n",
       "      <td>2/120</td>\n",
       "      <td>690</td>\n",
       "      <td>2</td>\n",
       "      <td>70</td>\n",
       "      <td>0</td>\n",
       "      <td>5d</td>\n",
       "      <td>2d</td>\n",
       "      <td>Td</td>\n",
       "      <td>3h</td>\n",
       "      <td>2c</td>\n",
       "    </tr>\n",
       "    <tr>\n",
       "      <th>98</th>\n",
       "      <td>4</td>\n",
       "      <td>3/60</td>\n",
       "      <td>2/80</td>\n",
       "      <td>2/120</td>\n",
       "      <td>1165</td>\n",
       "      <td>1</td>\n",
       "      <td>20</td>\n",
       "      <td>0</td>\n",
       "      <td>5d</td>\n",
       "      <td>2d</td>\n",
       "      <td>Td</td>\n",
       "      <td>3h</td>\n",
       "      <td>2c</td>\n",
       "    </tr>\n",
       "    <tr>\n",
       "      <th>99</th>\n",
       "      <td>4</td>\n",
       "      <td>3/60</td>\n",
       "      <td>2/80</td>\n",
       "      <td>2/120</td>\n",
       "      <td>692</td>\n",
       "      <td>3</td>\n",
       "      <td>70</td>\n",
       "      <td>160</td>\n",
       "      <td>5d</td>\n",
       "      <td>2d</td>\n",
       "      <td>Td</td>\n",
       "      <td>3h</td>\n",
       "      <td>2c</td>\n",
       "    </tr>\n",
       "  </tbody>\n",
       "</table>\n",
       "<p>100 rows × 13 columns</p>\n",
       "</div>"
      ],
      "text/plain": [
       "    num_players flop_pot turn_pot river_pot  chip_count  chair_num  \\\n",
       "0             2      0/0      0/0       0/0        1995          1   \n",
       "1             2      0/0      0/0       0/0          50          2   \n",
       "2             2     2/20     2/20       0/0        1045          2   \n",
       "3             2     2/20     2/20       0/0        1000          1   \n",
       "4             3      0/0      0/0       0/0        3550          1   \n",
       "..          ...      ...      ...       ...         ...        ...   \n",
       "95            4     2/25      0/0       0/0         782          2   \n",
       "96            4     3/60     2/80     2/120        2224          4   \n",
       "97            4     3/60     2/80     2/120         690          2   \n",
       "98            4     3/60     2/80     2/120        1165          1   \n",
       "99            4     3/60     2/80     2/120         692          3   \n",
       "\n",
       "    player_bet  player_winnings table_1 table_2 table_3 table_4 table_5  \n",
       "0           10               20    None    None    None    None    None  \n",
       "1           10                0    None    None    None    None    None  \n",
       "2          970             1920      8c      Td      2d      Qs    None  \n",
       "3          950                0      8c      Td      2d      Qs    None  \n",
       "4            5                0    None    None    None    None    None  \n",
       "..         ...              ...     ...     ...     ...     ...     ...  \n",
       "95          10                0      8d      3d      Kc    None    None  \n",
       "96           0                0      5d      2d      Td      3h      2c  \n",
       "97          70                0      5d      2d      Td      3h      2c  \n",
       "98          20                0      5d      2d      Td      3h      2c  \n",
       "99          70              160      5d      2d      Td      3h      2c  \n",
       "\n",
       "[100 rows x 13 columns]"
      ]
     },
     "execution_count": 5,
     "metadata": {},
     "output_type": "execute_result"
    }
   ],
   "source": [
    "#run queries for data\n",
    "hands_df = pd.read_sql('SELECT hand.num_players, hand.flop_pot, hand.turn_pot, hand.river_pot, player.chip_count, player.chair_num, player.player_bet, player.player_winnings, hand.table_1, hand.table_2, hand.table_3, hand.table_4, hand.table_5 FROM dbo_hands hand JOIN dbo_players player ON hand.hand_id = player.hand_id ORDER BY hand.hand_id DESC', engine)\n",
    "hands_df.head(100)"
   ]
  },
  {
   "cell_type": "code",
   "execution_count": 6,
   "id": "1370667f",
   "metadata": {},
   "outputs": [],
   "source": [
    "#Because pots include the number of players left in the hand, we split the remaining players from the cells\n",
    "strp_flop_df = hands_df\n",
    "strp_flop_df['flop_players'] = strp_flop_df['flop_pot'].str.split('/').str[0]\n",
    "strp_flop_df['flop_pot'] = strp_flop_df['flop_pot'].str.split('/').str[1]\n",
    "strp_flop_df['turn_players'] = strp_flop_df['turn_pot'].str.split('/').str[0]\n",
    "strp_flop_df['turn_pot'] = strp_flop_df['turn_pot'].str.split('/').str[1]\n",
    "strp_flop_df['river_players'] = strp_flop_df['river_pot'].str.split('/').str[0]\n",
    "strp_flop_df['river_pot'] = strp_flop_df['river_pot'].str.split('/').str[1]\n",
    "strp_flop_df.head()\n",
    "strp_flop_df.to_csv('../../data/visualization_data.csv')"
   ]
  },
  {
   "cell_type": "code",
   "execution_count": 7,
   "id": "1380190b",
   "metadata": {},
   "outputs": [
    {
     "data": {
      "text/plain": [
       "num_players         int64\n",
       "flop_pot           object\n",
       "turn_pot           object\n",
       "river_pot          object\n",
       "chip_count          int64\n",
       "chair_num           int64\n",
       "player_bet          int64\n",
       "player_winnings     int64\n",
       "table_1            object\n",
       "table_2            object\n",
       "table_3            object\n",
       "table_4            object\n",
       "table_5            object\n",
       "flop_players       object\n",
       "turn_players       object\n",
       "river_players      object\n",
       "dtype: object"
      ]
     },
     "execution_count": 7,
     "metadata": {},
     "output_type": "execute_result"
    }
   ],
   "source": [
    "#make sure numerical columns have numerical data type\n",
    "strp_flop_df.dtypes"
   ]
  },
  {
   "cell_type": "code",
   "execution_count": 8,
   "id": "7411acc0",
   "metadata": {},
   "outputs": [
    {
     "data": {
      "text/plain": [
       "num_players         int64\n",
       "flop_pot            int64\n",
       "turn_pot            int64\n",
       "river_pot           int64\n",
       "chip_count          int64\n",
       "chair_num           int64\n",
       "player_bet          int64\n",
       "player_winnings     int64\n",
       "table_1            object\n",
       "table_2            object\n",
       "table_3            object\n",
       "table_4            object\n",
       "table_5            object\n",
       "flop_players        int64\n",
       "turn_players        int64\n",
       "river_players       int64\n",
       "dtype: object"
      ]
     },
     "execution_count": 8,
     "metadata": {},
     "output_type": "execute_result"
    }
   ],
   "source": [
    "#correct the numerical columns\n",
    "strp_flop_df = strp_flop_df.astype({'flop_pot': 'int64',\n",
    "                    'turn_pot': 'int64',\n",
    "                    'river_pot': 'int64',\n",
    "                    'flop_players': 'int64',\n",
    "                    'turn_players': 'int64',\n",
    "                    'river_players': 'int64'})\n",
    "strp_flop_df.dtypes"
   ]
  },
  {
   "cell_type": "code",
   "execution_count": 9,
   "id": "b8d9b28a",
   "metadata": {},
   "outputs": [
    {
     "data": {
      "text/plain": [
       "num_players    int64\n",
       "flop_pot       int64\n",
       "turn_pot       int64\n",
       "river_pot      int64\n",
       "chip_count     int64\n",
       "               ...  \n",
       "table_5_Qs     uint8\n",
       "table_5_Tc     uint8\n",
       "table_5_Td     uint8\n",
       "table_5_Th     uint8\n",
       "table_5_Ts     uint8\n",
       "Length: 271, dtype: object"
      ]
     },
     "execution_count": 9,
     "metadata": {},
     "output_type": "execute_result"
    }
   ],
   "source": [
    "#create dummies for table cards to allow selection of cards on table\n",
    "learning_df = pd.get_dummies(strp_flop_df)\n",
    "learning_df.dtypes"
   ]
  },
  {
   "cell_type": "code",
   "execution_count": 10,
   "id": "bb8e2652",
   "metadata": {},
   "outputs": [],
   "source": [
    "#machine learning to estimate player winnings\n",
    "from sklearn.model_selection import train_test_split\n",
    "from sklearn.preprocessing import StandardScaler\n",
    "from sklearn.metrics import accuracy_score\n",
    "import pandas as pd\n",
    "import tensorflow as tf"
   ]
  },
  {
   "cell_type": "code",
   "execution_count": 11,
   "id": "6c31fe14",
   "metadata": {},
   "outputs": [],
   "source": [
    "#create targets by using a winning pot to determine success\n",
    "X = learning_df.drop(['player_winnings'], axis=1)\n",
    "y = learning_df['player_winnings']\n",
    "new_y = []\n",
    "for y_t in y:\n",
    "    if y_t > 0:\n",
    "        y_t = 1\n",
    "    else:\n",
    "        y_t = 0\n",
    "    new_y.append(y_t)\n",
    "y = np.array(new_y)"
   ]
  },
  {
   "cell_type": "code",
   "execution_count": 12,
   "id": "56a7136d",
   "metadata": {},
   "outputs": [
    {
     "data": {
      "text/html": [
       "<div>\n",
       "<style scoped>\n",
       "    .dataframe tbody tr th:only-of-type {\n",
       "        vertical-align: middle;\n",
       "    }\n",
       "\n",
       "    .dataframe tbody tr th {\n",
       "        vertical-align: top;\n",
       "    }\n",
       "\n",
       "    .dataframe thead th {\n",
       "        text-align: right;\n",
       "    }\n",
       "</style>\n",
       "<table border=\"1\" class=\"dataframe\">\n",
       "  <thead>\n",
       "    <tr style=\"text-align: right;\">\n",
       "      <th></th>\n",
       "      <th>num_players</th>\n",
       "      <th>flop_pot</th>\n",
       "      <th>turn_pot</th>\n",
       "      <th>river_pot</th>\n",
       "      <th>chip_count</th>\n",
       "      <th>chair_num</th>\n",
       "      <th>player_bet</th>\n",
       "      <th>flop_players</th>\n",
       "      <th>turn_players</th>\n",
       "      <th>river_players</th>\n",
       "      <th>...</th>\n",
       "      <th>table_5_Kh</th>\n",
       "      <th>table_5_Ks</th>\n",
       "      <th>table_5_Qc</th>\n",
       "      <th>table_5_Qd</th>\n",
       "      <th>table_5_Qh</th>\n",
       "      <th>table_5_Qs</th>\n",
       "      <th>table_5_Tc</th>\n",
       "      <th>table_5_Td</th>\n",
       "      <th>table_5_Th</th>\n",
       "      <th>table_5_Ts</th>\n",
       "    </tr>\n",
       "  </thead>\n",
       "  <tbody>\n",
       "    <tr>\n",
       "      <th>0</th>\n",
       "      <td>2</td>\n",
       "      <td>0</td>\n",
       "      <td>0</td>\n",
       "      <td>0</td>\n",
       "      <td>1995</td>\n",
       "      <td>1</td>\n",
       "      <td>10</td>\n",
       "      <td>0</td>\n",
       "      <td>0</td>\n",
       "      <td>0</td>\n",
       "      <td>...</td>\n",
       "      <td>0</td>\n",
       "      <td>0</td>\n",
       "      <td>0</td>\n",
       "      <td>0</td>\n",
       "      <td>0</td>\n",
       "      <td>0</td>\n",
       "      <td>0</td>\n",
       "      <td>0</td>\n",
       "      <td>0</td>\n",
       "      <td>0</td>\n",
       "    </tr>\n",
       "    <tr>\n",
       "      <th>1</th>\n",
       "      <td>2</td>\n",
       "      <td>0</td>\n",
       "      <td>0</td>\n",
       "      <td>0</td>\n",
       "      <td>50</td>\n",
       "      <td>2</td>\n",
       "      <td>10</td>\n",
       "      <td>0</td>\n",
       "      <td>0</td>\n",
       "      <td>0</td>\n",
       "      <td>...</td>\n",
       "      <td>0</td>\n",
       "      <td>0</td>\n",
       "      <td>0</td>\n",
       "      <td>0</td>\n",
       "      <td>0</td>\n",
       "      <td>0</td>\n",
       "      <td>0</td>\n",
       "      <td>0</td>\n",
       "      <td>0</td>\n",
       "      <td>0</td>\n",
       "    </tr>\n",
       "    <tr>\n",
       "      <th>2</th>\n",
       "      <td>2</td>\n",
       "      <td>20</td>\n",
       "      <td>20</td>\n",
       "      <td>0</td>\n",
       "      <td>1045</td>\n",
       "      <td>2</td>\n",
       "      <td>970</td>\n",
       "      <td>2</td>\n",
       "      <td>2</td>\n",
       "      <td>0</td>\n",
       "      <td>...</td>\n",
       "      <td>0</td>\n",
       "      <td>0</td>\n",
       "      <td>0</td>\n",
       "      <td>0</td>\n",
       "      <td>0</td>\n",
       "      <td>0</td>\n",
       "      <td>0</td>\n",
       "      <td>0</td>\n",
       "      <td>0</td>\n",
       "      <td>0</td>\n",
       "    </tr>\n",
       "    <tr>\n",
       "      <th>3</th>\n",
       "      <td>2</td>\n",
       "      <td>20</td>\n",
       "      <td>20</td>\n",
       "      <td>0</td>\n",
       "      <td>1000</td>\n",
       "      <td>1</td>\n",
       "      <td>950</td>\n",
       "      <td>2</td>\n",
       "      <td>2</td>\n",
       "      <td>0</td>\n",
       "      <td>...</td>\n",
       "      <td>0</td>\n",
       "      <td>0</td>\n",
       "      <td>0</td>\n",
       "      <td>0</td>\n",
       "      <td>0</td>\n",
       "      <td>0</td>\n",
       "      <td>0</td>\n",
       "      <td>0</td>\n",
       "      <td>0</td>\n",
       "      <td>0</td>\n",
       "    </tr>\n",
       "    <tr>\n",
       "      <th>4</th>\n",
       "      <td>3</td>\n",
       "      <td>0</td>\n",
       "      <td>0</td>\n",
       "      <td>0</td>\n",
       "      <td>3550</td>\n",
       "      <td>1</td>\n",
       "      <td>5</td>\n",
       "      <td>0</td>\n",
       "      <td>0</td>\n",
       "      <td>0</td>\n",
       "      <td>...</td>\n",
       "      <td>0</td>\n",
       "      <td>0</td>\n",
       "      <td>0</td>\n",
       "      <td>0</td>\n",
       "      <td>0</td>\n",
       "      <td>0</td>\n",
       "      <td>0</td>\n",
       "      <td>0</td>\n",
       "      <td>0</td>\n",
       "      <td>0</td>\n",
       "    </tr>\n",
       "  </tbody>\n",
       "</table>\n",
       "<p>5 rows × 270 columns</p>\n",
       "</div>"
      ],
      "text/plain": [
       "   num_players  flop_pot  turn_pot  river_pot  chip_count  chair_num  \\\n",
       "0            2         0         0          0        1995          1   \n",
       "1            2         0         0          0          50          2   \n",
       "2            2        20        20          0        1045          2   \n",
       "3            2        20        20          0        1000          1   \n",
       "4            3         0         0          0        3550          1   \n",
       "\n",
       "   player_bet  flop_players  turn_players  river_players  ...  table_5_Kh  \\\n",
       "0          10             0             0              0  ...           0   \n",
       "1          10             0             0              0  ...           0   \n",
       "2         970             2             2              0  ...           0   \n",
       "3         950             2             2              0  ...           0   \n",
       "4           5             0             0              0  ...           0   \n",
       "\n",
       "   table_5_Ks  table_5_Qc  table_5_Qd  table_5_Qh  table_5_Qs  table_5_Tc  \\\n",
       "0           0           0           0           0           0           0   \n",
       "1           0           0           0           0           0           0   \n",
       "2           0           0           0           0           0           0   \n",
       "3           0           0           0           0           0           0   \n",
       "4           0           0           0           0           0           0   \n",
       "\n",
       "   table_5_Td  table_5_Th  table_5_Ts  \n",
       "0           0           0           0  \n",
       "1           0           0           0  \n",
       "2           0           0           0  \n",
       "3           0           0           0  \n",
       "4           0           0           0  \n",
       "\n",
       "[5 rows x 270 columns]"
      ]
     },
     "execution_count": 12,
     "metadata": {},
     "output_type": "execute_result"
    }
   ],
   "source": [
    "X.head()"
   ]
  },
  {
   "cell_type": "code",
   "execution_count": 13,
   "id": "1329413e",
   "metadata": {},
   "outputs": [],
   "source": [
    "X_train, X_test, y_train, y_test = train_test_split(X, y)"
   ]
  },
  {
   "cell_type": "code",
   "execution_count": 14,
   "id": "29785043",
   "metadata": {},
   "outputs": [],
   "source": [
    "scaler = StandardScaler().fit(X_train)"
   ]
  },
  {
   "cell_type": "code",
   "execution_count": 15,
   "id": "bc3820fe",
   "metadata": {},
   "outputs": [],
   "source": [
    "X_train_scaled = scaler.transform(X_train)\n",
    "X_test_scaled = scaler.transform(X_test)"
   ]
  },
  {
   "cell_type": "code",
   "execution_count": 16,
   "id": "0e42127e",
   "metadata": {},
   "outputs": [
    {
     "name": "stdout",
     "output_type": "stream",
     "text": [
      "Epoch 1/50\n",
      "3275/3275 [==============================] - 8s 2ms/step - loss: 0.3479 - accuracy: 0.8255\n",
      "Epoch 2/50\n",
      "3275/3275 [==============================] - 9s 3ms/step - loss: 0.2514 - accuracy: 0.8652\n",
      "Epoch 3/50\n",
      "3275/3275 [==============================] - 8s 3ms/step - loss: 0.2357 - accuracy: 0.8729\n",
      "Epoch 4/50\n",
      "3275/3275 [==============================] - 8s 2ms/step - loss: 0.2296 - accuracy: 0.8774\n",
      "Epoch 5/50\n",
      "3275/3275 [==============================] - 7s 2ms/step - loss: 0.2257 - accuracy: 0.8784\n",
      "Epoch 6/50\n",
      "3275/3275 [==============================] - 8s 3ms/step - loss: 0.2230 - accuracy: 0.8798\n",
      "Epoch 7/50\n",
      "3275/3275 [==============================] - 6s 2ms/step - loss: 0.2211 - accuracy: 0.8817\n",
      "Epoch 8/50\n",
      "3275/3275 [==============================] - 6s 2ms/step - loss: 0.2195 - accuracy: 0.8816\n",
      "Epoch 9/50\n",
      "3275/3275 [==============================] - 6s 2ms/step - loss: 0.2181 - accuracy: 0.8826\n",
      "Epoch 10/50\n",
      "3275/3275 [==============================] - 6s 2ms/step - loss: 0.2168 - accuracy: 0.8834\n",
      "Epoch 11/50\n",
      "3275/3275 [==============================] - 6s 2ms/step - loss: 0.2153 - accuracy: 0.8844\n",
      "Epoch 12/50\n",
      "3275/3275 [==============================] - 6s 2ms/step - loss: 0.2146 - accuracy: 0.8849\n",
      "Epoch 13/50\n",
      "3275/3275 [==============================] - 6s 2ms/step - loss: 0.2133 - accuracy: 0.8856\n",
      "Epoch 14/50\n",
      "3275/3275 [==============================] - 6s 2ms/step - loss: 0.2128 - accuracy: 0.8856\n",
      "Epoch 15/50\n",
      "3275/3275 [==============================] - 6s 2ms/step - loss: 0.2119 - accuracy: 0.8863\n",
      "Epoch 16/50\n",
      "3275/3275 [==============================] - 6s 2ms/step - loss: 0.2111 - accuracy: 0.8867\n",
      "Epoch 17/50\n",
      "3275/3275 [==============================] - 6s 2ms/step - loss: 0.2105 - accuracy: 0.8867\n",
      "Epoch 18/50\n",
      "3275/3275 [==============================] - 6s 2ms/step - loss: 0.2104 - accuracy: 0.8870\n",
      "Epoch 19/50\n",
      "3275/3275 [==============================] - 6s 2ms/step - loss: 0.2095 - accuracy: 0.8879\n",
      "Epoch 20/50\n",
      "3275/3275 [==============================] - 10s 3ms/step - loss: 0.2091 - accuracy: 0.8872\n",
      "Epoch 21/50\n",
      "3275/3275 [==============================] - 7s 2ms/step - loss: 0.2086 - accuracy: 0.8878\n",
      "Epoch 22/50\n",
      "3275/3275 [==============================] - 6s 2ms/step - loss: 0.2082 - accuracy: 0.8876\n",
      "Epoch 23/50\n",
      "3275/3275 [==============================] - 7s 2ms/step - loss: 0.2081 - accuracy: 0.8880\n",
      "Epoch 24/50\n",
      "3275/3275 [==============================] - 7s 2ms/step - loss: 0.2080 - accuracy: 0.8880\n",
      "Epoch 25/50\n",
      "3275/3275 [==============================] - 7s 2ms/step - loss: 0.2076 - accuracy: 0.8889\n",
      "Epoch 26/50\n",
      "3275/3275 [==============================] - 7s 2ms/step - loss: 0.2071 - accuracy: 0.8882\n",
      "Epoch 27/50\n",
      "3275/3275 [==============================] - 7s 2ms/step - loss: 0.2073 - accuracy: 0.8882\n",
      "Epoch 28/50\n",
      "3275/3275 [==============================] - 6s 2ms/step - loss: 0.2065 - accuracy: 0.8890\n",
      "Epoch 29/50\n",
      "3275/3275 [==============================] - 7s 2ms/step - loss: 0.2063 - accuracy: 0.8890\n",
      "Epoch 30/50\n",
      "3275/3275 [==============================] - 7s 2ms/step - loss: 0.2063 - accuracy: 0.8898\n",
      "Epoch 31/50\n",
      "3275/3275 [==============================] - 6s 2ms/step - loss: 0.2061 - accuracy: 0.8899\n",
      "Epoch 32/50\n",
      "3275/3275 [==============================] - 6s 2ms/step - loss: 0.2056 - accuracy: 0.8896\n",
      "Epoch 33/50\n",
      "3275/3275 [==============================] - 6s 2ms/step - loss: 0.2055 - accuracy: 0.8897\n",
      "Epoch 34/50\n",
      "3275/3275 [==============================] - 7s 2ms/step - loss: 0.2052 - accuracy: 0.8901\n",
      "Epoch 35/50\n",
      "3275/3275 [==============================] - 6s 2ms/step - loss: 0.2052 - accuracy: 0.8901\n",
      "Epoch 36/50\n",
      "3275/3275 [==============================] - 7s 2ms/step - loss: 0.2050 - accuracy: 0.8900\n",
      "Epoch 37/50\n",
      "3275/3275 [==============================] - 7s 2ms/step - loss: 0.2046 - accuracy: 0.8903\n",
      "Epoch 38/50\n",
      "3275/3275 [==============================] - 6s 2ms/step - loss: 0.2045 - accuracy: 0.8906\n",
      "Epoch 39/50\n",
      "3275/3275 [==============================] - 6s 2ms/step - loss: 0.2046 - accuracy: 0.8903\n",
      "Epoch 40/50\n",
      "3275/3275 [==============================] - 5s 2ms/step - loss: 0.2042 - accuracy: 0.8900\n",
      "Epoch 41/50\n",
      "3275/3275 [==============================] - 5s 2ms/step - loss: 0.2039 - accuracy: 0.8905\n",
      "Epoch 42/50\n",
      "3275/3275 [==============================] - 5s 2ms/step - loss: 0.2037 - accuracy: 0.8904\n",
      "Epoch 43/50\n",
      "3275/3275 [==============================] - 6s 2ms/step - loss: 0.2037 - accuracy: 0.8909\n",
      "Epoch 44/50\n",
      "3275/3275 [==============================] - 6s 2ms/step - loss: 0.2037 - accuracy: 0.8905\n",
      "Epoch 45/50\n",
      "3275/3275 [==============================] - 6s 2ms/step - loss: 0.2035 - accuracy: 0.8911\n",
      "Epoch 46/50\n",
      "3275/3275 [==============================] - 6s 2ms/step - loss: 0.2030 - accuracy: 0.8912\n",
      "Epoch 47/50\n",
      "3275/3275 [==============================] - 6s 2ms/step - loss: 0.2032 - accuracy: 0.8908\n",
      "Epoch 48/50\n",
      "3275/3275 [==============================] - 6s 2ms/step - loss: 0.2029 - accuracy: 0.8911\n",
      "Epoch 49/50\n",
      "3275/3275 [==============================] - 10s 3ms/step - loss: 0.2028 - accuracy: 0.8909\n",
      "Epoch 50/50\n",
      "3275/3275 [==============================] - 7s 2ms/step - loss: 0.2025 - accuracy: 0.8919\n",
      "1092/1092 - 1s - loss: 0.2324 - accuracy: 0.8802 - 1s/epoch - 1ms/step\n",
      "Loss: 0.23236873745918274, Accuracy: 0.8801603317260742\n"
     ]
    }
   ],
   "source": [
    "# Define the deep learning model \n",
    "nn_model = tf.keras.models.Sequential()\n",
    "nn_model.add(tf.keras.layers.Dense(units=8, activation=\"relu\", input_dim=270))\n",
    "nn_model.add(tf.keras.layers.Dense(units=8, activation=\"relu\"))\n",
    "nn_model.add(tf.keras.layers.Dense(units=1, activation=\"sigmoid\"))\n",
    "\n",
    "# Compile the Sequential model together and customize metrics\n",
    "nn_model.compile(loss=\"binary_crossentropy\", optimizer=\"adam\", metrics=[\"accuracy\"])\n",
    "\n",
    "# Train the model\n",
    "fit_model = nn_model.fit(X_train_scaled, y_train, epochs=50)\n",
    "\n",
    "# Evaluate the model using the test data\n",
    "model_loss, model_accuracy = nn_model.evaluate(X_test_scaled,y_test,verbose=2)\n",
    "print(f\"Loss: {model_loss}, Accuracy: {model_accuracy}\")"
   ]
  },
  {
   "cell_type": "code",
   "execution_count": 17,
   "id": "dcb57ae7",
   "metadata": {},
   "outputs": [
    {
     "data": {
      "text/plain": [
       "keras.engine.sequential.Sequential"
      ]
     },
     "execution_count": 17,
     "metadata": {},
     "output_type": "execute_result"
    }
   ],
   "source": [
    "type(nn_model)"
   ]
  },
  {
   "cell_type": "code",
   "execution_count": 18,
   "id": "0aec8be6",
   "metadata": {},
   "outputs": [
    {
     "data": {
      "text/plain": [
       "104788"
      ]
     },
     "execution_count": 18,
     "metadata": {},
     "output_type": "execute_result"
    }
   ],
   "source": [
    "len(y_train)"
   ]
  },
  {
   "cell_type": "code",
   "execution_count": 19,
   "id": "e3464a7e",
   "metadata": {},
   "outputs": [],
   "source": [
    "#create and use the model with new data\n",
    "#Inputs are: \n",
    "#number of players, \n",
    "#pot at the flop, \n",
    "#pot at the turn, \n",
    "#pot at the river, \n",
    "#player chip count, \n",
    "#player chair num, \n",
    "#player bet amount,\n",
    "#players at the flop,\n",
    "#players at the turn,\n",
    "#players at the river,\n",
    "#cards on the table"
   ]
  },
  {
   "cell_type": "code",
   "execution_count": 20,
   "id": "ba5cdb20",
   "metadata": {},
   "outputs": [],
   "source": [
    "#get inputs\n",
    "x_predict = [2,0,0,0,1995,1,10,0,0,0,'None','None','None','None','None']"
   ]
  },
  {
   "cell_type": "code",
   "execution_count": 21,
   "id": "f32ebbf6",
   "metadata": {},
   "outputs": [
    {
     "name": "stdout",
     "output_type": "stream",
     "text": [
      "Adding card 1 : table_1_None\n",
      "Adding card 2 : table_2_None\n",
      "Adding card 3 : table_3_None\n",
      "Adding card 4 : table_4_None\n",
      "Adding card 5 : table_5_None\n",
      "270\n"
     ]
    }
   ],
   "source": [
    "#create dataframe with dummies columns\n",
    "#start withe list of valid cards\n",
    "cards = ['Ad','2d','3d','4d','5d','6d','7d','8d','9d','Td','Jd','Qd','Kd','Ah','2h','3h','4h','5h','6h','7h','8h','9h','Th','Jh','Qh','Kh','As','2s','3s','4s','5s','6s','7s','8s','9s','Ts','Js','Qs','Ks','Ac','2c','3c','4c','5c','6c','7c','8c','9c','Tc','Jc','Qc','Kc']\n",
    "\n",
    "#create dummies reference list\n",
    "dummies_cards = x_predict[:10]\n",
    "\n",
    "#get the headers from the dummies columns\n",
    "dummies_columns = list(X.columns.values)\n",
    "dummies_columns = dummies_columns[10:]\n",
    "\n",
    "#loop through each table card and add the corresponding binary value\n",
    "i = 0\n",
    "k = 0\n",
    "while i < 5:\n",
    "    i = i+1\n",
    "    #get the current card\n",
    "    curr_card = f'table_{i}_{x_predict[9+i]}'\n",
    "    print(f\"Adding card {i} : {curr_card}\")\n",
    "    j = 0\n",
    "    while j<52:\n",
    "        check_card = dummies_columns[k]\n",
    "        if curr_card == check_card:\n",
    "            print(f\"Added {check_card}\")\n",
    "            dummies_cards.append(1)\n",
    "        else:\n",
    "            dummies_cards.append(0)\n",
    "        j = j+1\n",
    "        k = k+1\n",
    "print(len(dummies_cards))"
   ]
  },
  {
   "cell_type": "code",
   "execution_count": 22,
   "id": "37daa5da",
   "metadata": {},
   "outputs": [
    {
     "data": {
      "text/plain": [
       "(1, 270)"
      ]
     },
     "execution_count": 22,
     "metadata": {},
     "output_type": "execute_result"
    }
   ],
   "source": [
    "x_predict = np.array([dummies_cards])\n",
    "x_predict.flatten()\n",
    "x_predict.shape"
   ]
  },
  {
   "cell_type": "code",
   "execution_count": 23,
   "id": "240e4838",
   "metadata": {},
   "outputs": [],
   "source": [
    "y_predict = nn_model.predict(x_predict)"
   ]
  },
  {
   "cell_type": "code",
   "execution_count": 24,
   "id": "1d559532",
   "metadata": {},
   "outputs": [
    {
     "name": "stdout",
     "output_type": "stream",
     "text": [
      "1/1 [==============================] - 0s 151ms/step - loss: 3.6550e-18 - accuracy: 0.0000e+00\n",
      "<class 'list'>\n"
     ]
    },
    {
     "data": {
      "text/plain": [
       "[3.6549972118293654e-18, 0.0]"
      ]
     },
     "execution_count": 24,
     "metadata": {},
     "output_type": "execute_result"
    }
   ],
   "source": [
    "result = nn_model.evaluate(x_predict,y_predict,verbose=1)\n",
    "print(type(result))\n",
    "result"
   ]
  },
  {
   "cell_type": "code",
   "execution_count": 25,
   "id": "51c10d45",
   "metadata": {},
   "outputs": [
    {
     "data": {
      "text/plain": [
       "array([[8.130143e-20]], dtype=float32)"
      ]
     },
     "execution_count": 25,
     "metadata": {},
     "output_type": "execute_result"
    }
   ],
   "source": [
    "y_predict"
   ]
  },
  {
   "cell_type": "code",
   "execution_count": 26,
   "id": "660040ee",
   "metadata": {},
   "outputs": [
    {
     "name": "stdout",
     "output_type": "stream",
     "text": [
      "Model: \"sequential\"\n",
      "_________________________________________________________________\n",
      " Layer (type)                Output Shape              Param #   \n",
      "=================================================================\n",
      " dense (Dense)               (None, 8)                 2168      \n",
      "                                                                 \n",
      " dense_1 (Dense)             (None, 8)                 72        \n",
      "                                                                 \n",
      " dense_2 (Dense)             (None, 1)                 9         \n",
      "                                                                 \n",
      "=================================================================\n",
      "Total params: 2,249\n",
      "Trainable params: 2,249\n",
      "Non-trainable params: 0\n",
      "_________________________________________________________________\n"
     ]
    }
   ],
   "source": [
    "nn_model.summary()"
   ]
  },
  {
   "cell_type": "code",
   "execution_count": 27,
   "id": "7599f6da",
   "metadata": {},
   "outputs": [],
   "source": [
    "nn_model.save('poker_model.hdf5')"
   ]
  },
  {
   "cell_type": "code",
   "execution_count": 28,
   "id": "66b21288",
   "metadata": {},
   "outputs": [],
   "source": [
    "dummies_columns = list(X.columns.values)\n",
    "dummies_columns = dummies_columns[10:]"
   ]
  },
  {
   "cell_type": "code",
   "execution_count": 29,
   "id": "26604b46",
   "metadata": {},
   "outputs": [],
   "source": [
    "#file = open(\"dummies_columns.txt\", \"w\")\n",
    "with open(\"file.txt\", \"w\") as output:\n",
    "    output.write(str(dummies_columns))"
   ]
  },
  {
   "cell_type": "code",
   "execution_count": null,
   "id": "7f595a7a",
   "metadata": {},
   "outputs": [],
   "source": []
  }
 ],
 "metadata": {
  "interpreter": {
   "hash": "ec8df479c0d1dcc4a6fcdc539b27d2145d9c4f911372971f3a80a17644b4f29d"
  },
  "kernelspec": {
   "display_name": "Python 3.6.10 ('PythonData')",
   "language": "python",
   "name": "python3"
  },
  "language_info": {
   "codemirror_mode": {
    "name": "ipython",
    "version": 3
   },
   "file_extension": ".py",
   "mimetype": "text/x-python",
   "name": "python",
   "nbconvert_exporter": "python",
   "pygments_lexer": "ipython3",
   "version": "3.6.10"
  }
 },
 "nbformat": 4,
 "nbformat_minor": 5
}
