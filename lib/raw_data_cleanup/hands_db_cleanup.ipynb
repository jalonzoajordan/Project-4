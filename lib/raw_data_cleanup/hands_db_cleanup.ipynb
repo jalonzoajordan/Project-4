{
 "cells": [
  {
   "cell_type": "code",
   "execution_count": 1,
   "id": "88b31829",
   "metadata": {},
   "outputs": [],
   "source": [
    "import pandas as pd"
   ]
  },
  {
   "cell_type": "code",
   "execution_count": 2,
   "id": "0acf6197",
   "metadata": {},
   "outputs": [],
   "source": [
    "file = \"./IRCdata/IRCdata/holdem.199504/holdem.199504/holdem/199504/hdb\""
   ]
  },
  {
   "cell_type": "code",
   "execution_count": 4,
   "id": "a4e68c18",
   "metadata": {},
   "outputs": [
    {
     "name": "stderr",
     "output_type": "stream",
     "text": [
      "C:\\ProgramData\\Anaconda3\\lib\\site-packages\\pandas\\util\\_decorators.py:311: ParserWarning: Falling back to the 'python' engine because the 'c' engine does not support regex separators (separators > 1 char and different from '\\s+' are interpreted as regex); you can avoid this warning by specifying engine='python'.\n",
      "  return func(*args, **kwargs)\n"
     ]
    }
   ],
   "source": [
    "csv = pd.read_csv(file, sep=\" +\", header=None,names=['hand_num','table_num','table_hand','num_players','pre_flop','flop','turn', 'river','card_1','card_2','card_3','card_4','card_5'])"
   ]
  },
  {
   "cell_type": "code",
   "execution_count": 5,
   "id": "b2fe9f84",
   "metadata": {},
   "outputs": [
    {
     "data": {
      "text/html": [
       "<div>\n",
       "<style scoped>\n",
       "    .dataframe tbody tr th:only-of-type {\n",
       "        vertical-align: middle;\n",
       "    }\n",
       "\n",
       "    .dataframe tbody tr th {\n",
       "        vertical-align: top;\n",
       "    }\n",
       "\n",
       "    .dataframe thead th {\n",
       "        text-align: right;\n",
       "    }\n",
       "</style>\n",
       "<table border=\"1\" class=\"dataframe\">\n",
       "  <thead>\n",
       "    <tr style=\"text-align: right;\">\n",
       "      <th></th>\n",
       "      <th>hand_num</th>\n",
       "      <th>table_num</th>\n",
       "      <th>table_hand</th>\n",
       "      <th>num_players</th>\n",
       "      <th>pre_flop</th>\n",
       "      <th>flop</th>\n",
       "      <th>turn</th>\n",
       "      <th>river</th>\n",
       "      <th>card_1</th>\n",
       "      <th>card_2</th>\n",
       "      <th>card_3</th>\n",
       "      <th>card_4</th>\n",
       "      <th>card_5</th>\n",
       "    </tr>\n",
       "  </thead>\n",
       "  <tbody>\n",
       "    <tr>\n",
       "      <th>0</th>\n",
       "      <td>797210868</td>\n",
       "      <td>1</td>\n",
       "      <td>192</td>\n",
       "      <td>9</td>\n",
       "      <td>2/20</td>\n",
       "      <td>2/40</td>\n",
       "      <td>2/80</td>\n",
       "      <td>2/120</td>\n",
       "      <td>Qc</td>\n",
       "      <td>Ks</td>\n",
       "      <td>8s</td>\n",
       "      <td>Jh</td>\n",
       "      <td>Tc</td>\n",
       "    </tr>\n",
       "    <tr>\n",
       "      <th>1</th>\n",
       "      <td>797210948</td>\n",
       "      <td>1</td>\n",
       "      <td>193</td>\n",
       "      <td>8</td>\n",
       "      <td>3/70</td>\n",
       "      <td>2/90</td>\n",
       "      <td>2/130</td>\n",
       "      <td>2/210</td>\n",
       "      <td>5c</td>\n",
       "      <td>Tc</td>\n",
       "      <td>Ah</td>\n",
       "      <td>5s</td>\n",
       "      <td>2s</td>\n",
       "    </tr>\n",
       "    <tr>\n",
       "      <th>2</th>\n",
       "      <td>797211062</td>\n",
       "      <td>1</td>\n",
       "      <td>194</td>\n",
       "      <td>8</td>\n",
       "      <td>2/50</td>\n",
       "      <td>2/70</td>\n",
       "      <td>2/110</td>\n",
       "      <td>2/150</td>\n",
       "      <td>5c</td>\n",
       "      <td>9c</td>\n",
       "      <td>Kd</td>\n",
       "      <td>Qs</td>\n",
       "      <td>8h</td>\n",
       "    </tr>\n",
       "    <tr>\n",
       "      <th>3</th>\n",
       "      <td>797211160</td>\n",
       "      <td>1</td>\n",
       "      <td>195</td>\n",
       "      <td>7</td>\n",
       "      <td>2/20</td>\n",
       "      <td>0/0</td>\n",
       "      <td>0/0</td>\n",
       "      <td>1/30</td>\n",
       "      <td>Td</td>\n",
       "      <td>9c</td>\n",
       "      <td>Ad</td>\n",
       "      <td>None</td>\n",
       "      <td>None</td>\n",
       "    </tr>\n",
       "    <tr>\n",
       "      <th>4</th>\n",
       "      <td>797211251</td>\n",
       "      <td>1</td>\n",
       "      <td>196</td>\n",
       "      <td>7</td>\n",
       "      <td>4/85</td>\n",
       "      <td>2/125</td>\n",
       "      <td>2/165</td>\n",
       "      <td>2/205</td>\n",
       "      <td>5s</td>\n",
       "      <td>Ts</td>\n",
       "      <td>4s</td>\n",
       "      <td>Jc</td>\n",
       "      <td>2d</td>\n",
       "    </tr>\n",
       "  </tbody>\n",
       "</table>\n",
       "</div>"
      ],
      "text/plain": [
       "    hand_num  table_num  table_hand  num_players pre_flop   flop   turn  \\\n",
       "0  797210868          1         192            9     2/20   2/40   2/80   \n",
       "1  797210948          1         193            8     3/70   2/90  2/130   \n",
       "2  797211062          1         194            8     2/50   2/70  2/110   \n",
       "3  797211160          1         195            7     2/20    0/0    0/0   \n",
       "4  797211251          1         196            7     4/85  2/125  2/165   \n",
       "\n",
       "   river card_1 card_2 card_3 card_4 card_5  \n",
       "0  2/120     Qc     Ks     8s     Jh     Tc  \n",
       "1  2/210     5c     Tc     Ah     5s     2s  \n",
       "2  2/150     5c     9c     Kd     Qs     8h  \n",
       "3   1/30     Td     9c     Ad   None   None  \n",
       "4  2/205     5s     Ts     4s     Jc     2d  "
      ]
     },
     "execution_count": 5,
     "metadata": {},
     "output_type": "execute_result"
    }
   ],
   "source": [
    "csv.head()"
   ]
  },
  {
   "cell_type": "code",
   "execution_count": 7,
   "id": "618fea5e",
   "metadata": {},
   "outputs": [],
   "source": [
    "csv.to_csv('hdb.csv', index=False, header=False)"
   ]
  },
  {
   "cell_type": "code",
   "execution_count": null,
   "id": "fe46d392",
   "metadata": {},
   "outputs": [],
   "source": []
  }
 ],
 "metadata": {
  "kernelspec": {
   "display_name": "Python 3 (ipykernel)",
   "language": "python",
   "name": "python3"
  },
  "language_info": {
   "codemirror_mode": {
    "name": "ipython",
    "version": 3
   },
   "file_extension": ".py",
   "mimetype": "text/x-python",
   "name": "python",
   "nbconvert_exporter": "python",
   "pygments_lexer": "ipython3",
   "version": "3.9.7"
  }
 },
 "nbformat": 4,
 "nbformat_minor": 5
}
