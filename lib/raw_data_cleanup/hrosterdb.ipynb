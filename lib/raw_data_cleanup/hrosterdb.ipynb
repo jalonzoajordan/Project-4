{
 "cells": [
  {
   "cell_type": "code",
   "execution_count": 1,
   "id": "78b9007b",
   "metadata": {},
   "outputs": [],
   "source": [
    "import pandas as pd"
   ]
  },
  {
   "cell_type": "code",
   "execution_count": 2,
   "id": "c88a22c7",
   "metadata": {},
   "outputs": [],
   "source": [
    "file = \"./IRCdata/IRCdata/holdem.199504/holdem.199504/holdem/199504/hroster\""
   ]
  },
  {
   "cell_type": "code",
   "execution_count": 3,
   "id": "c94840fb",
   "metadata": {},
   "outputs": [
    {
     "name": "stderr",
     "output_type": "stream",
     "text": [
      "C:\\ProgramData\\Anaconda3\\lib\\site-packages\\pandas\\util\\_decorators.py:311: ParserWarning: Falling back to the 'python' engine because the 'c' engine does not support regex separators (separators > 1 char and different from '\\s+' are interpreted as regex); you can avoid this warning by specifying engine='python'.\n",
      "  return func(*args, **kwargs)\n"
     ]
    }
   ],
   "source": [
    "csv = pd.read_csv(file, sep=\" +\", header=None,names=['hand_id','num_players','player_1','player_2','player_3','player_4','player_5','player_6','player_7','player_8','player_9','player_10','player_11','player_12'])"
   ]
  },
  {
   "cell_type": "code",
   "execution_count": 4,
   "id": "677534d4",
   "metadata": {},
   "outputs": [
    {
     "data": {
      "text/html": [
       "<div>\n",
       "<style scoped>\n",
       "    .dataframe tbody tr th:only-of-type {\n",
       "        vertical-align: middle;\n",
       "    }\n",
       "\n",
       "    .dataframe tbody tr th {\n",
       "        vertical-align: top;\n",
       "    }\n",
       "\n",
       "    .dataframe thead th {\n",
       "        text-align: right;\n",
       "    }\n",
       "</style>\n",
       "<table border=\"1\" class=\"dataframe\">\n",
       "  <thead>\n",
       "    <tr style=\"text-align: right;\">\n",
       "      <th></th>\n",
       "      <th>hand_id</th>\n",
       "      <th>num_players</th>\n",
       "      <th>player_1</th>\n",
       "      <th>player_2</th>\n",
       "      <th>player_3</th>\n",
       "      <th>player_4</th>\n",
       "      <th>player_5</th>\n",
       "      <th>player_6</th>\n",
       "      <th>player_7</th>\n",
       "      <th>player_8</th>\n",
       "      <th>player_9</th>\n",
       "      <th>player_10</th>\n",
       "      <th>player_11</th>\n",
       "      <th>player_12</th>\n",
       "    </tr>\n",
       "  </thead>\n",
       "  <tbody>\n",
       "    <tr>\n",
       "      <th>0</th>\n",
       "      <td>797210868</td>\n",
       "      <td>9</td>\n",
       "      <td>Quick</td>\n",
       "      <td>Winner777</td>\n",
       "      <td>derek</td>\n",
       "      <td>greg</td>\n",
       "      <td>gunner</td>\n",
       "      <td>jims</td>\n",
       "      <td>johnr</td>\n",
       "      <td>sagerbot</td>\n",
       "      <td>shinner</td>\n",
       "      <td>None</td>\n",
       "      <td>None</td>\n",
       "      <td>None</td>\n",
       "    </tr>\n",
       "    <tr>\n",
       "      <th>1</th>\n",
       "      <td>797210948</td>\n",
       "      <td>8</td>\n",
       "      <td>Winner777</td>\n",
       "      <td>derek</td>\n",
       "      <td>greg</td>\n",
       "      <td>gunner</td>\n",
       "      <td>jims</td>\n",
       "      <td>johnr</td>\n",
       "      <td>sagerbot</td>\n",
       "      <td>shinner</td>\n",
       "      <td>None</td>\n",
       "      <td>None</td>\n",
       "      <td>None</td>\n",
       "      <td>None</td>\n",
       "    </tr>\n",
       "    <tr>\n",
       "      <th>2</th>\n",
       "      <td>797211062</td>\n",
       "      <td>8</td>\n",
       "      <td>Winner777</td>\n",
       "      <td>deadhead</td>\n",
       "      <td>derek</td>\n",
       "      <td>greg</td>\n",
       "      <td>gunner</td>\n",
       "      <td>jims</td>\n",
       "      <td>sagerbot</td>\n",
       "      <td>shinner</td>\n",
       "      <td>None</td>\n",
       "      <td>None</td>\n",
       "      <td>None</td>\n",
       "      <td>None</td>\n",
       "    </tr>\n",
       "    <tr>\n",
       "      <th>3</th>\n",
       "      <td>797211160</td>\n",
       "      <td>7</td>\n",
       "      <td>deadhead</td>\n",
       "      <td>derek</td>\n",
       "      <td>greg</td>\n",
       "      <td>gunner</td>\n",
       "      <td>jims</td>\n",
       "      <td>sagerbot</td>\n",
       "      <td>shinner</td>\n",
       "      <td>None</td>\n",
       "      <td>None</td>\n",
       "      <td>None</td>\n",
       "      <td>None</td>\n",
       "      <td>None</td>\n",
       "    </tr>\n",
       "    <tr>\n",
       "      <th>4</th>\n",
       "      <td>797211251</td>\n",
       "      <td>7</td>\n",
       "      <td>deadhead</td>\n",
       "      <td>derek</td>\n",
       "      <td>greg</td>\n",
       "      <td>gunner</td>\n",
       "      <td>jims</td>\n",
       "      <td>sagerbot</td>\n",
       "      <td>shinner</td>\n",
       "      <td>None</td>\n",
       "      <td>None</td>\n",
       "      <td>None</td>\n",
       "      <td>None</td>\n",
       "      <td>None</td>\n",
       "    </tr>\n",
       "  </tbody>\n",
       "</table>\n",
       "</div>"
      ],
      "text/plain": [
       "     hand_id  num_players   player_1   player_2 player_3 player_4 player_5  \\\n",
       "0  797210868            9      Quick  Winner777    derek     greg   gunner   \n",
       "1  797210948            8  Winner777      derek     greg   gunner     jims   \n",
       "2  797211062            8  Winner777   deadhead    derek     greg   gunner   \n",
       "3  797211160            7   deadhead      derek     greg   gunner     jims   \n",
       "4  797211251            7   deadhead      derek     greg   gunner     jims   \n",
       "\n",
       "   player_6  player_7  player_8 player_9 player_10 player_11 player_12  \n",
       "0      jims     johnr  sagerbot  shinner      None      None      None  \n",
       "1     johnr  sagerbot   shinner     None      None      None      None  \n",
       "2      jims  sagerbot   shinner     None      None      None      None  \n",
       "3  sagerbot   shinner      None     None      None      None      None  \n",
       "4  sagerbot   shinner      None     None      None      None      None  "
      ]
     },
     "execution_count": 4,
     "metadata": {},
     "output_type": "execute_result"
    }
   ],
   "source": [
    "csv.head()"
   ]
  },
  {
   "cell_type": "code",
   "execution_count": 5,
   "id": "4769b3b3",
   "metadata": {},
   "outputs": [],
   "source": [
    "csv.to_csv('hroster.csv', index=False, header=False)"
   ]
  },
  {
   "cell_type": "code",
   "execution_count": null,
   "id": "1489075b",
   "metadata": {},
   "outputs": [],
   "source": []
  }
 ],
 "metadata": {
  "kernelspec": {
   "display_name": "Python 3 (ipykernel)",
   "language": "python",
   "name": "python3"
  },
  "language_info": {
   "codemirror_mode": {
    "name": "ipython",
    "version": 3
   },
   "file_extension": ".py",
   "mimetype": "text/x-python",
   "name": "python",
   "nbconvert_exporter": "python",
   "pygments_lexer": "ipython3",
   "version": "3.9.7"
  }
 },
 "nbformat": 4,
 "nbformat_minor": 5
}
